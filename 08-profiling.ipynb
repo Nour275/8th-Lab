{
 "cells":[
  {
   "cell_type":"markdown",
   "source":[
    "1. Сгенерируйте массив A из N=1млн случайных целых чисел на отрезке от 0 до 1000. Пусть B[i] = A[i] + 100. Посчитайте среднее значение массива B."
   ],
   "attachments":{
    
   },
   "metadata":{
    "datalore":{
     "node_id":"unX5Jk3MldXIQrTpP2fuxb",
     "type":"MD",
     "hide_input_from_viewers":true,
     "hide_output_from_viewers":true
    }
   }
  },
  {
   "cell_type":"code",
   "source":[
    "import random\n",
    "\n",
    "N = 1000000\n",
    "A = [random.randint(0, 1000) for i in range(N)]\n",
    "B = [num + 100 for num in A]\n",
    "\n",
    "average_B = sum(B) \/ len(B)\n",
    "print(average_B)"
   ],
   "execution_count":1,
   "outputs":[
    {
     "name":"stdout",
     "text":[
      "600.133871\n"
     ],
     "output_type":"stream"
    }
   ],
   "metadata":{
    "datalore":{
     "node_id":"IBhfID5ST0LyQqXuDZal4e",
     "type":"CODE",
     "hide_input_from_viewers":true,
     "hide_output_from_viewers":true
    }
   }
  },
  {
   "cell_type":"markdown",
   "source":[
    "2. Создайте таблицу 2млн строк и с 4 столбцами, заполненными случайными числами. Добавьте столбец key, которые содержит элементы из множества английских букв. Выберите из таблицы подмножество строк, для которых в столбце key указаны первые 5 английских букв."
   ],
   "attachments":{
    
   },
   "metadata":{
    "datalore":{
     "node_id":"GlrsrT7z7jsBzDBgNeshBI",
     "type":"MD",
     "hide_input_from_viewers":true,
     "hide_output_from_viewers":true
    }
   }
  },
  {
   "cell_type":"code",
   "source":[
    "import pandas as pd\n",
    "import numpy as np\n",
    "\n",
    "df = pd.DataFrame(np.random.rand(2000000, 4), columns=['col1', 'col2', 'col3', 'col4'])\n",
    "df['key'] = np.random.choice(list('ABCDEFGHIJKLMNOPQRSTUVWXYZ'), size=2000000)\n",
    "\n",
    "print(df.head())"
   ],
   "execution_count":2,
   "outputs":[
    {
     "name":"stdout",
     "text":[
      "       col1      col2      col3      col4 key\n",
      "0  0.341593  0.735396  0.552466  0.955983   U\n",
      "1  0.418118  0.797559  0.131570  0.825313   F\n",
      "2  0.909958  0.257973  0.388731  0.377044   H\n",
      "3  0.191254  0.852633  0.708756  0.441200   F\n",
      "4  0.598709  0.836978  0.626206  0.185735   E\n"
     ],
     "output_type":"stream"
    }
   ],
   "metadata":{
    "datalore":{
     "node_id":"oo5LfOnO6Oq6ekM4i6a0qM",
     "type":"CODE",
     "hide_input_from_viewers":true,
     "hide_output_from_viewers":true
    }
   }
  },
  {
   "cell_type":"markdown",
   "source":[
    "## Лабораторная работа 3"
   ],
   "attachments":{
    
   },
   "metadata":{
    "datalore":{
     "node_id":"lktizWphW9FVGv69FnRd37",
     "type":"MD",
     "hide_input_from_viewers":true,
     "hide_output_from_viewers":true
    }
   }
  },
  {
   "cell_type":"markdown",
   "source":[
    "1. В файлах recipes_sample.csv и reviews_sample.csv (ЛР 2) находится информация об рецептах блюд и отзывах на эти рецепты соответственно. Загрузите данные из файлов в виде pd.DataFrame с названиями recipes и reviews. Обратите внимание на корректное считывание столбца(ов) с индексами. Приведите столбцы к нужным типам.\n",
    "Реализуйте несколько вариантов функции подсчета среднего значения столбца rating из таблицы reviews для отзывов, оставленных в 2010 году.\n",
    "\n",
    "A. С использованием метода DataFrame.iterrows исходной таблицы;\n",
    "\n",
    "Б. С использованием метода DataFrame.iterrows таблицы, в которой сохранены только отзывы за 2010 год;\n",
    "\n",
    "В. С использованием метода Series.mean.\n",
    "\n",
    "Проверьте, что результаты работы всех написанных функций корректны и совпадают. Измерьте выполнения всех написанных функций"
   ],
   "attachments":{
    
   },
   "metadata":{
    "datalore":{
     "node_id":"lSfVXcViEMiCSy2NfK3b5h",
     "type":"MD",
     "hide_input_from_viewers":true,
     "hide_output_from_viewers":true
    }
   }
  },
  {
   "cell_type":"code",
   "source":[
    "import pandas as pd\n",
    "import time\n",
    "recipes = pd.read_csv('recipes_sample.csv', index_col=0)\n",
    "reviews = pd.read_csv('reviews_sample.csv', index_col=0)\n",
    "\n",
    "recipes['id'] = recipes['id'].astype(int)\n",
    "recipes['minutes'] = recipes['minutes'].astype(int)\n",
    "\n",
    "reviews['id'] = reviews['id'].astype(int)\n",
    "reviews['user_id'] = reviews['user_id'].astype(int)\n",
    "reviews['rating'] = reviews['rating'].astype(float)\n",
    "reviews['date'] = pd.to_datetime(reviews['date'])\n",
    "#calculate the average value of the rating column (A)\n",
    "def mean_rating_A(reviews):\n",
    "    sum_rating = 0.0\n",
    "    count_rating = 0\n",
    "    \n",
    "    for index, row in reviews.iterrows():\n",
    "        if row['date'].year == 2010:\n",
    "            sum_rating += row['rating']\n",
    "            count_rating += 1\n",
    "    \n",
    "    if count_rating == 0:\n",
    "        return 0.0\n",
    "    \n",
    "    return sum_rating \/ count_rating\n",
    "\n",
    "#Measuring the execution time of a function Option A\n",
    "start_time = time.time()\n",
    "result_A = mean_rating_A(reviews)\n",
    "end_time = time.time()\n",
    "print(\"Option A: Average rating for reviews left in 2010 - \", result_A)\n",
    "print(\"Time to execute Option A: \", end_time - start_time, \"seconds\")\n",
    "#B\n",
    "def mean_rating_B(reviews_2010):\n",
    "    sum_rating = 0.0\n",
    "    count_rating = 0\n",
    "    \n",
    "    for index, row in reviews_2010.iterrows():\n",
    "        sum_rating += row['rating']\n",
    "        count_rating += 1\n",
    "    \n",
    "    if count_rating == 0:\n",
    "        return 0.0\n",
    "    \n",
    "    return sum_rating \/ count_rating\n",
    "\n",
    "start_time = time.time()\n",
    "reviews_2010 = reviews[reviews['date'].dt.year == 2010]\n",
    "result_B = mean_rating_B(reviews_2010)\n",
    "end_time = time.time()\n",
    "print(\"Option B: Average rating for reviews left in 2010 - \", result_B)\n",
    "print(\"Time to execute Option B: \", end_time - start_time, \"seconds\")\n",
    "#C\n",
    "def mean_rating_C(reviews_2010):\n",
    "    return reviews_2010['rating'].mean()\n",
    "\n",
    "start_time = time.time()\n",
    "reviews_2010 = reviews[reviews['date'].dt.year == 2010]\n",
    "result_C = mean_rating_C(reviews_2010)\n",
    "end_time = time.time()\n",
    "print(\"Option C: Average rating for reviews left in 2010 - \", result_C)\n",
    "print(\"Time to execute Option c: \", end_time - start_time, \"seconds\")"
   ],
   "execution_count":3,
   "outputs":[
    {
     "name":"stdout",
     "text":[
      "Option A: Average rating for reviews left in 2010 -  4.4544402182900615\n",
      "Time to execute Option A:  9.230548620223999 seconds\n",
      "Option B: Average rating for reviews left in 2010 -  4.4544402182900615\n",
      "Time to execute Option B:  0.8662064075469971 seconds\n",
      "Option C: Average rating for reviews left in 2010 -  4.4544402182900615\n",
      "Time to execute Option c:  0.0193178653717041 seconds\n"
     ],
     "output_type":"stream"
    }
   ],
   "metadata":{
    "datalore":{
     "node_id":"Oc6qM9B4QCpoVZrbQ85Xdn",
     "type":"CODE",
     "hide_input_from_viewers":true,
     "hide_output_from_viewers":true
    }
   }
  },
  {
   "cell_type":"markdown",
   "source":[
    "2. Какая из созданных функций выполняется медленнее? Что наиболее сильно влияет на скорость выполнения? Для ответа использовать профайлер `line_profiler`. Сохраните результаты работы профайлера в отдельную текстовую ячейку и прокомментируйте результаты его работы."
   ],
   "attachments":{
    
   },
   "metadata":{
    "datalore":{
     "node_id":"CjizekoVG8Vn1nWcg5jQor",
     "type":"MD",
     "hide_input_from_viewers":true,
     "hide_output_from_viewers":true
    }
   }
  },
  {
   "cell_type":"code",
   "source":[
    
   ],
   "execution_count":null,
   "outputs":[
    
   ],
   "metadata":{
    "datalore":{
     "node_id":"DoygQxH8jVQCADn2uc0LXF",
     "type":"CODE",
     "hide_input_from_viewers":true,
     "hide_output_from_viewers":true
    }
   }
  },
  {
   "cell_type":"markdown",
   "source":[
    "3. Вам предлагается воспользоваться функцией, которая собирает статистику о том, сколько отзывов содержат то или иное слово. Измерьте время выполнения этой функции. Сможете ли вы найти узкие места в коде, используя профайлер? Выпишите (словами), что в имеющемся коде реализовано неоптимально. Оптимизируйте функцию и добейтесь значительного (как минимум, на один порядок) прироста в скорости выполнения."
   ],
   "attachments":{
    
   },
   "metadata":{
    "datalore":{
     "node_id":"Jw4CiYHXdeA7ltJHstzwGi",
     "type":"MD",
     "hide_input_from_viewers":true,
     "hide_output_from_viewers":true
    }
   }
  },
  {
   "cell_type":"code",
   "source":[
    "import pandas as pd\n",
    "\n",
    "df = pd.read_csv('reviews_sample.csv')\n",
    "\n",
    "\n",
    "def get_word_reviews_count(df):\n",
    "    word_reviews = {}\n",
    "    for _, row in df.dropna(subset=['review']).iterrows():\n",
    "        recipe_id, review = row['user_id'], row['review']\n",
    "        words = review.split(' ')\n",
    "        for word in words:\n",
    "            if word not in word_reviews:\n",
    "                word_reviews[word] = []\n",
    "            word_reviews[word].append(recipe_id)\n",
    "    \n",
    "    word_reviews_count = {}\n",
    "    for _, row in df.dropna(subset=['review']).iterrows():\n",
    "        review = row['review']\n",
    "        words = review.split(' ')\n",
    "        for word in words:\n",
    "            word_reviews_count[word] = len(word_reviews[word])\n",
    "    return word_reviews_count\n",
    "import time\n",
    "\n",
    "start_time = time.time()\n",
    "result = get_word_reviews_count(df)\n",
    "end_time = time.time()\n",
    "\n",
    "print(f\"Execution time: {end_time - start_time} seconds\")"
   ],
   "execution_count":4,
   "outputs":[
    {
     "name":"stdout",
     "text":[
      "Execution time: 27.093859434127808 seconds\n"
     ],
     "output_type":"stream"
    }
   ],
   "metadata":{
    "datalore":{
     "node_id":"M98ApK5zez2PbGr9Am5Yef",
     "type":"CODE",
     "hide_input_from_viewers":true,
     "hide_output_from_viewers":true
    }
   }
  },
  {
   "cell_type":"markdown",
   "source":[
    "4. Напишите несколько версий функции `MAPE` (см. [MAPE](https:\/\/en.wikipedia.org\/wiki\/Mean_absolute_percentage_error)) для расчета среднего абсолютного процентного отклонения значения рейтинга отзыва на рецепт от среднего значения рейтинга по всем отзывам для этого рецепта. \n",
    "    1. Без использования векторизованных операций и методов массивов `numpy` и без использования `numba`\n",
    "    2. Без использования векторизованных операций и методов массивов `numpy`, но с использованием `numba`\n",
    "    3. С использованием векторизованных операций и методов массивов `numpy`, но без использования `numba`\n",
    "    4. C использованием векторизованных операций и методов массивов `numpy` и `numba`\n",
    "    \n",
    "Измерьте время выполнения каждой из реализаций.\n",
    "\n",
    "Замечание: удалите из выборки отзывы с нулевым рейтингом."
   ],
   "attachments":{
    
   },
   "metadata":{
    "datalore":{
     "node_id":"vgn7ZsXBn3AMHkIbYOiFfh",
     "type":"MD",
     "hide_input_from_viewers":true,
     "hide_output_from_viewers":true
    }
   }
  },
  {
   "cell_type":"code",
   "source":[
    "import numpy as np\n",
    "\n",
    "#Без использования векторизованных операций и методов массивов numpy и без использования numba:\n",
    "def mape(ratings):\n",
    "    total_sum = 0\n",
    "    total_count = 0\n",
    "    for rating in ratings:\n",
    "        if rating != 0:\n",
    "            total_sum += abs(rating - np.mean(ratings))\n",
    "            total_count += 1\n",
    "    return total_sum \/ total_count * 100 if total_count > 0 else 0\n",
    "\n",
    "\n",
    "#С использованием numba:\n",
    "import numba as nb\n",
    "\n",
    "@nb.jit(nopython=True)\n",
    "def mape_numba(ratings):\n",
    "    total_sum = 0\n",
    "    total_count = 0\n",
    "    for rating in ratings:\n",
    "        if rating != 0:\n",
    "            total_sum += abs(rating - np.mean(ratings))\n",
    "            total_count += 1\n",
    "    return total_sum \/ total_count * 100 if total_count > 0 else 0\n",
    "\n",
    "\n",
    "#С использованием векторизованных операций и методов массивов numpy, без использования numba:\n",
    "def mape_np(ratings):\n",
    "    ratings = ratings[ratings != 0]\n",
    "    return np.mean(np.abs(ratings - np.mean(ratings))) * 100 if len(ratings) > 0 else 0\n",
    "\n",
    "\n",
    "#С использованием векторизованных операций и методов массивов numpy и numba:\n",
    "import numba as nb\n",
    "\n",
    "@nb.jit(nopython=True)\n",
    "def mape_np_numba(ratings):\n",
    "    ratings = ratings[ratings != 0]\n",
    "    return np.mean(np.abs(ratings - np.mean(ratings))) * 100 if len(ratings) > 0 else 0\n",
    "\n",
    "\n",
    "#Для измерения времени выполнения каждой из функций можно использовать модуль timeit:\n",
    "import timeit\n",
    "\n",
    "ratings = np.random.randint(0, 5, 10000)\n",
    "\n",
    "start_time = timeit.default_timer()\n",
    "mape(ratings)\n",
    "print(\"mape:\", timeit.default_timer() - start_time)\n",
    "\n",
    "start_time = timeit.default_timer()\n",
    "mape_numba(ratings)\n",
    "print(\"mape with numba:\", timeit.default_timer() - start_time)\n",
    "\n",
    "start_time = timeit.default_timer()\n",
    "mape_np(ratings)\n",
    "print(\"mape with numpy:\", timeit.default_timer() - start_time)\n",
    "\n",
    "start_time = timeit.default_timer()\n",
    "mape_np_numba(ratings)\n",
    "print(\"mape with numpy and numba:\", timeit.default_timer() - start_time)"
   ],
   "execution_count":4,
   "outputs":[
    {
     "name":"stdout",
     "text":[
      "mape: 0.20501299400007156\n",
      "mape with numba: 1.7949455139998918\n",
      "mape with numpy: 0.0022335759999805305\n",
      "mape with numpy and numba: 0.6340868380000302\n"
     ],
     "output_type":"stream"
    }
   ],
   "metadata":{
    "datalore":{
     "node_id":"nhwxoOimQR844yKJt9mIdd",
     "type":"CODE",
     "hide_input_from_viewers":true,
     "hide_output_from_viewers":true
    }
   }
  }
 ],
 "metadata":{
  "kernelspec":{
   "display_name":"Python",
   "language":"python",
   "name":"python"
  },
  "datalore":{
   "computation_mode":"JUPYTER",
   "package_manager":"pip",
   "base_environment":"default",
   "packages":[
    {
     "name":"numba",
     "version":"0.57.0",
     "source":"PIP"
    }
   ],
   "report_row_ids":[
    
   ],
   "version":3
  }
 },
 "nbformat":4,
 "nbformat_minor":4
}